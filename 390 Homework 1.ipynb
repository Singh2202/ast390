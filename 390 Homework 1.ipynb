{
 "cells": [
  {
   "cell_type": "markdown",
   "id": "a76ff327",
   "metadata": {},
   "source": [
    "### Sameer Singh &nbsp;&nbsp;&nbsp;  &nbsp;&nbsp;&nbsp; &nbsp;&nbsp;&nbsp; &nbsp;&nbsp;&nbsp; &nbsp;&nbsp;&nbsp; &nbsp;&nbsp;&nbsp; &nbsp;&nbsp;&nbsp; &nbsp;&nbsp;&nbsp; &nbsp;&nbsp;&nbsp;&nbsp;&nbsp;&nbsp;  &nbsp;&nbsp;&nbsp; &nbsp;&nbsp;&nbsp; &nbsp;&nbsp;&nbsp; &nbsp;&nbsp;&nbsp; &nbsp;&nbsp;&nbsp; &nbsp;&nbsp;&nbsp; &nbsp;&nbsp;&nbsp; &nbsp;&nbsp;&nbsp;&nbsp;&nbsp;&nbsp;  &nbsp;&nbsp;&nbsp; &nbsp;&nbsp;&nbsp; &nbsp;&nbsp;&nbsp; &nbsp;&nbsp;&nbsp; &nbsp;&nbsp;&nbsp; &nbsp;&nbsp;&nbsp; &nbsp;&nbsp;&nbsp;  &nbsp;&nbsp;&nbsp;&nbsp;&nbsp;&nbsp;&nbsp;&nbsp;&nbsp;&nbsp;&nbsp;&nbsp; &nbsp;&nbsp;&nbsp;&nbsp;AST 390 Problem Set 1"
   ]
  },
  {
   "cell_type": "markdown",
   "id": "f1b8ec6d",
   "metadata": {},
   "source": [
    "### Problem 1\n",
    "\n",
    "(a) $$g(x) = f(x) \\frac{\\sqrt{x^3+1} + 1}{\\sqrt{x^3+1} + 1} = \\frac{1}{\\sqrt{x^3+1} - 1}\\frac{\\sqrt{x^3+1} + 1}{\\sqrt{x^3+1} + 1} = \\frac{\\sqrt{x^3+1} + 1}{(\\sqrt{x^3+1} - 1)(\\sqrt{x^3+1} + 1)} = \\frac{\\sqrt{x^3+1} + 1}{x^3} := g(x)$$ (indeed, no subtractions)\n",
    "\n",
    "(b) $$f(x) = g(x) = \\frac{\\sqrt{x^3+1} + 1}{x^3} \\approx \\frac{\\left(1+x^3/2\\right) + 1}{x^3} = \\frac{\\left(2+x^3\\right) + 2}{2x^3} = \\frac{4+x^3}{2x^3} = \\frac{2}{x^3} + \\frac{1}{2} \\approx \\frac{2}{x^3} \\hspace{5em} \\text{for}\\hspace{0.2em} \\lvert x\\rvert \\ll 1$$\n",
    "\n",
    "(in the first place where $\\approx$ appears, we use the binomial expansion; in the second, we use the fact that the constant term is asymptotically insignificant as $x$ goes to zero since the inverse term \"blows up\") "
   ]
  },
  {
   "cell_type": "code",
   "execution_count": 1,
   "id": "12d62e4f",
   "metadata": {},
   "outputs": [
    {
     "name": "stdout",
     "output_type": "stream",
     "text": [
      "f(0.001): 1999999834.5192716, g(0.001): 2000000000.5, approx_to_f(0.001): 1999999999.9999998\n",
      "f(1e-05): 2251799813685248.0, g(1e-05): 2000000000000000.0, approx_to_f(1e-05): 1999999999999999.5\n"
     ]
    },
    {
     "ename": "ZeroDivisionError",
     "evalue": "float division by zero",
     "output_type": "error",
     "traceback": [
      "\u001b[0;31m---------------------------------------------------------------------------\u001b[0m",
      "\u001b[0;31mZeroDivisionError\u001b[0m                         Traceback (most recent call last)",
      "Cell \u001b[0;32mIn[1], line 20\u001b[0m\n\u001b[1;32m     17\u001b[0m \u001b[38;5;66;03m# let's try this naively\u001b[39;00m\n\u001b[1;32m     19\u001b[0m \u001b[38;5;28;01mfor\u001b[39;00m x_value \u001b[38;5;129;01min\u001b[39;00m x_values:\n\u001b[0;32m---> 20\u001b[0m     \u001b[38;5;28mprint\u001b[39m(\u001b[38;5;124mf\u001b[39m\u001b[38;5;124m\"\u001b[39m\u001b[38;5;124mf(\u001b[39m\u001b[38;5;132;01m{\u001b[39;00mx_value\u001b[38;5;132;01m}\u001b[39;00m\u001b[38;5;124m): \u001b[39m\u001b[38;5;132;01m{\u001b[39;00mf(x_value)\u001b[38;5;132;01m}\u001b[39;00m\u001b[38;5;124m, g(\u001b[39m\u001b[38;5;132;01m{\u001b[39;00mx_value\u001b[38;5;132;01m}\u001b[39;00m\u001b[38;5;124m): \u001b[39m\u001b[38;5;132;01m{\u001b[39;00mg(x_value)\u001b[38;5;132;01m}\u001b[39;00m\u001b[38;5;124m, approx_to_f(\u001b[39m\u001b[38;5;132;01m{\u001b[39;00mx_value\u001b[38;5;132;01m}\u001b[39;00m\u001b[38;5;124m): \u001b[39m\u001b[38;5;132;01m{\u001b[39;00mapprox_to_f(x_value)\u001b[38;5;132;01m}\u001b[39;00m\u001b[38;5;124m\"\u001b[39m)\n",
      "Cell \u001b[0;32mIn[1], line 6\u001b[0m, in \u001b[0;36mf\u001b[0;34m(x)\u001b[0m\n\u001b[1;32m      5\u001b[0m \u001b[38;5;28;01mdef\u001b[39;00m \u001b[38;5;21mf\u001b[39m(x):\n\u001b[0;32m----> 6\u001b[0m     \u001b[38;5;28;01mreturn\u001b[39;00m \u001b[38;5;241;43m1\u001b[39;49m\u001b[43m \u001b[49m\u001b[38;5;241;43m/\u001b[39;49m\u001b[43m \u001b[49m\u001b[43m(\u001b[49m\u001b[43mmath\u001b[49m\u001b[38;5;241;43m.\u001b[39;49m\u001b[43msqrt\u001b[49m\u001b[43m(\u001b[49m\u001b[43mx\u001b[49m\u001b[38;5;241;43m*\u001b[39;49m\u001b[38;5;241;43m*\u001b[39;49m\u001b[38;5;241;43m3\u001b[39;49m\u001b[43m \u001b[49m\u001b[38;5;241;43m+\u001b[39;49m\u001b[43m \u001b[49m\u001b[38;5;241;43m1\u001b[39;49m\u001b[43m)\u001b[49m\u001b[43m \u001b[49m\u001b[38;5;241;43m-\u001b[39;49m\u001b[43m \u001b[49m\u001b[38;5;241;43m1\u001b[39;49m\u001b[43m)\u001b[49m\n",
      "\u001b[0;31mZeroDivisionError\u001b[0m: float division by zero"
     ]
    }
   ],
   "source": [
    "# (c)\n",
    "\n",
    "import math \n",
    "\n",
    "def f(x):\n",
    "    return 1 / (math.sqrt(x**3 + 1) - 1)\n",
    "\n",
    "def g(x):\n",
    "    return (math.sqrt(x**3 + 1) + 1) / x**3\n",
    "\n",
    "def approx_to_f(x):\n",
    "    return 2 / x ** 3\n",
    "\n",
    "x_values = [1.e-3, 1.e-5, 1.e-6]\n",
    "\n",
    "\n",
    "# let's try this naively\n",
    "\n",
    "for x_value in x_values:\n",
    "    print(f\"f({x_value}): {f(x_value)}, g({x_value}): {g(x_value)}, approx_to_f({x_value}): {approx_to_f(x_value)}\")"
   ]
  },
  {
   "cell_type": "markdown",
   "id": "24c51e12",
   "metadata": {},
   "source": [
    "(c) cont. \n",
    "\n",
    "Okay, so what do we notice so far? The first is that for $x=0.001$, all three functions agree pretty well—it's annoying that $f$ and $g$ disagree numerically, even though they are analytically equivalent, but that's because of floating point error; I'm more inclined to believe the $g$ value, since it avoids the subtraction that $f$ does not. The benefits of avoiding the subtraction become markedly more pronounced when we go to $x=1e-05$: the subtraction in $f$ has caused it to diverge significantly from the true value. The approximation is good. When we go to $x=1e-06$, $f$ is dealt a fatal blow: because of the subtraction, floating point error renders the denominator effectively zero, and the program halts. Let's, therefore, write a separate line to evaluate $g$ and the approximation to see if they survive at this value:"
   ]
  },
  {
   "cell_type": "code",
   "execution_count": null,
   "id": "8ca444e4",
   "metadata": {},
   "outputs": [],
   "source": [
    "# (c) cont. \n",
    "\n",
    "print(f\"g({x_values[2]}): {g(x_values[2])}, approx_to_f({x_values[2]}): {approx_to_f(x_values[2])}\")"
   ]
  },
  {
   "cell_type": "markdown",
   "id": "b9a40bfb",
   "metadata": {},
   "source": [
    "(c) cont. \n",
    "\n",
    "Indeed they do. \n",
    "\n",
    "**Upshot:** When $x$ is small, roundoff error from the subtraction in the denominator of $f$ will dominate the answer, and will for sufficiently small $x$ result in a ZeroDivisionError. We can get a better result by doing some analytic manipulations and approximations to $f$ to circumvent the subtraction.\n",
    "\n"
   ]
  },
  {
   "cell_type": "markdown",
   "id": "8e02a550",
   "metadata": {},
   "source": [
    "### Problem 2\n",
    "\n",
    "Let's construct a one-sided difference for the first-derivative that is second-order accurate. Our method will be to consider the points $f_{i}$, $f_{i+1}$, $f_{i+2}$, and Taylor-expand them about $x_i$ and solve for $df/dx\\rvert_{i}$. We assume that $\\Delta x$ is constant.\n",
    "\n",
    "$$f_i := f(x_i)$$\n",
    "\n",
    "$$f_{i+1} = f(x_{i+1}) = f_{i} + \\Delta x \\frac{df}{dx}\\Bigr\\rvert_{i} + \\frac{1}{2}(\\Delta x)^2 \\frac{d^2f}{dx^2}\\Bigr\\rvert_{i} + \\mathcal{O}{(x^3)}$$\n",
    "\n",
    "$$f_{i+2} = f(x_{i+2}) = f_{i} + 2 \\Delta x \\frac{df}{dx}\\Bigr\\rvert_{i} + \\frac{1}{2}(2 \\Delta x)^2 \\frac{d^2f}{dx^2}\\Bigr\\rvert_{i} + \\mathcal{O}{(x^3)} = f_{i} + 2\\Delta x \\frac{df}{dx}\\Bigr\\rvert_{i} + 2(\\Delta x)^2 \\frac{d^2f}{dx^2}\\Bigr\\rvert_{i} + \\mathcal{O}{(x^3)}$$\n",
    "\n",
    "With an eye towards eventually eliminating the second derivative term (because we know only the actual values of the function), let's multiply the expression for $f_{i+1}$ by $4$:\n",
    "\n",
    "$$4f_{i+1} = 4f_{i} + 4\\Delta x \\frac{df}{dx}\\Bigr\\rvert_{i} + 2(\\Delta x)^2 \\frac{d^2f}{dx^2}\\Bigr\\rvert_{i} + \\mathcal{O}{(x^3)}$$\n",
    "\n",
    "Now subtract from the above the expression for $f_{i+2}$:\n",
    "\n",
    "\n",
    "$$4f_{i+1} - f_{i+2} = \\left(4f_{i} + 4\\Delta x \\frac{df}{dx}\\Bigr\\rvert_{i} + 2(\\Delta x)^2 \\frac{d^2f}{dx^2}\\Bigr\\rvert_{i} + \\mathcal{O}{(x^3)}\\right) - \\left(f_{i} + 2 \\Delta x \\frac{df}{dx}\\Bigr\\rvert_{i} + 2(\\Delta x)^2 \\frac{d^2f}{dx^2}\\Bigr\\rvert_{i} + \\mathcal{O}{(x^3)}\\right) = 3f_i + 2\\Delta x \\frac{df}{dx}\\Bigr\\rvert_{i} + \\mathcal{O}(x^3)$$\n",
    "\n",
    "$$\\implies \\boxed{{\\frac{df}{dx}\\Bigr\\rvert_{i} = \\frac{4 f_{i+1} - f_{i+2} - 3f_{i}}{2\\Delta x} + \\mathcal{O}(x^3)}}$$\n",
    "\n",
    "To demonstrate that this converges second-order accurate, let's compute the derivative of $f(x) = \\sin(x)$ at $x=1$ for several values of $\\Delta x$. As we cut $\\Delta x$ in half, the error should be quartered. "
   ]
  },
  {
   "cell_type": "code",
   "execution_count": 2,
   "id": "0899574c",
   "metadata": {},
   "outputs": [
    {
     "name": "stdout",
     "output_type": "stream",
     "text": [
      "delta_x: 0.1, err: 0.0015846934059906559\n",
      "delta_x: 0.05, err: 0.0004235730412918137, ratio to previous term: 0.2672902150602571\n",
      "delta_x: 0.025, err: 0.00010925170520836858, ratio to previous term: 0.2579288447517164\n",
      "delta_x: 0.0125, err: 2.772834238351507e-05, ratio to previous term: 0.25380237617921503\n",
      "delta_x: 0.00625, err: 6.983731181353647e-06, ratio to previous term: 0.25186255581962175\n",
      "delta_x: 0.003125, err: 1.7523706632438518e-06, ratio to previous term: 0.2509218378740907\n",
      "delta_x: 0.0015625, err: 4.3889632062033e-07, ratio to previous term: 0.2504586100567784\n",
      "delta_x: 0.00078125, err: 1.0982436871032064e-07, ratio to previous term: 0.25022850169966426\n",
      "delta_x: 0.000390625, err: 2.746962346478199e-08, ratio to previous term: 0.2501232084223267\n",
      "delta_x: 0.0001953125, err: 6.8690000354365566e-09, ratio to previous term: 0.2500580338948986\n",
      "delta_x: 9.765625e-05, err: 1.7178494182701343e-09, ratio to previous term: 0.25008726297975004\n",
      "delta_x: 4.8828125e-05, err: 4.309144152614408e-10, ratio to previous term: 0.25084527821732444\n",
      "delta_x: 2.44140625e-05, err: 1.1259126964091593e-10, ratio to previous term: 0.2612845280949942\n",
      "delta_x: 1.220703125e-05, err: 3.9831693499081666e-11, ratio to previous term: 0.35377248721073784\n"
     ]
    }
   ],
   "source": [
    "import numpy as np\n",
    "\n",
    "def derivative(x_i, f, delta_x):\n",
    "    return (4*f(x_i + delta_x) - f(x_i + 2*delta_x) - 3*f(x_i)) / (2 * delta_x)\n",
    "\n",
    "def func(x):\n",
    "    return np.sin(x)\n",
    "\n",
    "def fprime(x):\n",
    "    return np.cos(x)\n",
    "\n",
    "delta_x = 0.1\n",
    "x_i = 1.0\n",
    "index_in_loop = 0\n",
    "list_of_errors = []\n",
    "\n",
    "while delta_x > 1.e-5:\n",
    "    \n",
    "    err = np.abs(derivative(x_i, func, delta_x) - fprime(x_i))\n",
    "    list_of_errors.append(err)\n",
    "  \n",
    "    if index_in_loop >= 1: # because \"previous term\" isn't defined for the first term\n",
    "        ratio_to_previous_term = err / list_of_errors[index_in_loop - 1]\n",
    "        print(f\"delta_x: {delta_x}, err: {err}, ratio to previous term: {ratio_to_previous_term}\")\n",
    "    else: # handle the first print separately otherwise the ratio part throws an error\n",
    "        print(f\"delta_x: {delta_x}, err: {err}\")\n",
    "\n",
    "    index_in_loop += 1\n",
    "    delta_x /= 2"
   ]
  },
  {
   "cell_type": "markdown",
   "id": "aa4a84fc",
   "metadata": {},
   "source": [
    "We see the expected second-order convergence."
   ]
  }
 ],
 "metadata": {
  "kernelspec": {
   "display_name": "Python 3 (ipykernel)",
   "language": "python",
   "name": "python3"
  },
  "language_info": {
   "codemirror_mode": {
    "name": "ipython",
    "version": 3
   },
   "file_extension": ".py",
   "mimetype": "text/x-python",
   "name": "python",
   "nbconvert_exporter": "python",
   "pygments_lexer": "ipython3",
   "version": "3.10.9"
  }
 },
 "nbformat": 4,
 "nbformat_minor": 5
}
